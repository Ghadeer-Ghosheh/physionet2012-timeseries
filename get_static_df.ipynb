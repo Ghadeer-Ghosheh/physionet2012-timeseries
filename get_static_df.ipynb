{
  "nbformat": 4,
  "nbformat_minor": 0,
  "metadata": {
    "colab": {
      "provenance": [],
      "collapsed_sections": []
    },
    "kernelspec": {
      "name": "python3",
      "display_name": "Python 3"
    },
    "language_info": {
      "name": "python"
    }
  },
  "cells": [
    {
      "cell_type": "code",
      "source": [
        "\n",
        "import pandas as pd\n",
        "from tqdm.auto import tqdm\n",
        "import os\n",
        "import re\n",
        "import numpy as np\n",
        "import ujson as json\n",
        "import dill\n",
        "import pickle"
      ],
      "metadata": {
        "id": "7baGALVoi2gx"
      },
      "execution_count": null,
      "outputs": []
    },
    {
      "cell_type": "code",
      "source": [
        "\n",
        "def get_record_df(set_name):\n",
        "  \"\"\"this function loops through the records of the chosen set\"\"\"\n",
        "  full_df_list = []\n",
        "  set_ids = []\n",
        "  for record_file in tqdm(os.listdir(set_name)):\n",
        "        id = int(record_file.split('.txt')[0])\n",
        "        with open(os.path.join(set_name, record_file), 'r') as file:\n",
        "            df_single_record = pd.read_csv(file)\n",
        "        final_single_record=get_static_variables(df_single_record,id)\n",
        "        full_df_list.append(final_single_record)\n",
        "        set_ids.append(id)\n",
        "  concatendated_fill = (pd.concat(full_df_list, sort=True)).set_index(\"RecordID\")\n",
        "  return(concatendated_fill, set_ids)\n",
        "\n",
        "def get_static_variables( df, id ):\n",
        "        \"\"\"this function extracts the static variables, and stores them in a dataframe\"\"\"\n",
        "        df['Time'] = df['Time'].apply(lambda j: int(j.split(':')[0]))\n",
        "        df = df.pivot_table('Value', 'Time', 'Parameter').reset_index()\n",
        "        df_final = df.iloc[:1]\n",
        "        df_final['RecordID'] = id\n",
        "        df_final[\"ICU_Type\"] = df_final.loc[0, 'ICUType']\n",
        "        df_final= df_final[[\"RecordID\",'Age', 'Gender', 'Height', 'Weight', 'ICU_Type']]\n",
        "        return(df_final)        "
      ],
      "metadata": {
        "id": "lY6PL2Wu3ffD"
      },
      "execution_count": 4,
      "outputs": []
    },
    {
      "cell_type": "markdown",
      "source": [
        "Extract static variables dataframes"
      ],
      "metadata": {
        "id": "mUytn1OpIlDa"
      }
    },
    {
      "cell_type": "code",
      "source": [
        "df_set_a,set_a_ids = get_record_df(\"set-a\")\n",
        "df_set_b,set_b_ids = get_record_df(\"set-b\")\n",
        "df_set_c,set_c_ids = get_record_df(\"set-c\")\n"
      ],
      "metadata": {
        "id": "TpL-mppi8lUT"
      },
      "execution_count": null,
      "outputs": []
    },
    {
      "cell_type": "markdown",
      "source": [
        "extract outcomes dataframes"
      ],
      "metadata": {
        "id": "b6MxKvyh-MLq"
      }
    },
    {
      "cell_type": "code",
      "source": [
        "outcomes_set_a = (pd.read_csv('Outcomes-a.txt')).set_index('RecordID')\n",
        "outcomes_set_b =(pd.read_csv('Outcomes-b.txt')).set_index('RecordID')\n",
        "outcomes_set_c = (pd.read_csv('Outcomes-c.txt')).set_index('RecordID')\n"
      ],
      "metadata": {
        "id": "cv3C3mzM-Jnm"
      },
      "execution_count": 6,
      "outputs": []
    },
    {
      "cell_type": "markdown",
      "source": [
        "Export pickle files"
      ],
      "metadata": {
        "id": "ZdgIEnJfJ_vE"
      }
    },
    {
      "cell_type": "code",
      "source": [
        "with open('extracts/static_set_a.pkl', 'wb') as outfile:\n",
        "    dill.dump(df_set_a, outfile, pickle.HIGHEST_PROTOCOL) \n",
        "with open('extracts/static_set_b.pkl', 'wb') as outfile:\n",
        "    dill.dump(df_set_b, outfile, pickle.HIGHEST_PROTOCOL) \n",
        "with open('extracts/static_set_c.pkl', 'wb') as outfile:\n",
        "    dill.dump(df_set_c, outfile, pickle.HIGHEST_PROTOCOL) "
      ],
      "metadata": {
        "id": "zOMMCozz8tfF"
      },
      "execution_count": 7,
      "outputs": []
    },
    {
      "cell_type": "code",
      "source": [
        "\n",
        "with open('extracts/ids_set_a.pkl', 'wb') as outfile:\n",
        "    dill.dump(set_a_ids, outfile, pickle.HIGHEST_PROTOCOL) \n",
        "with open('extracts/ids_set_b.pkl', 'wb') as outfile:\n",
        "    dill.dump(set_b_ids, outfile, pickle.HIGHEST_PROTOCOL) \n",
        "with open('extracts/ids_set_c.pkl', 'wb') as outfile:\n",
        "    dill.dump(set_c_ids, outfile, pickle.HIGHEST_PROTOCOL) "
      ],
      "metadata": {
        "id": "H8hO-sTT_jxc"
      },
      "execution_count": 8,
      "outputs": []
    },
    {
      "cell_type": "code",
      "source": [
        "with open('extracts/outcomes_set_a.pkl', 'wb') as outfile:\n",
        "    dill.dump(outcomes_set_a, outfile, pickle.HIGHEST_PROTOCOL) \n",
        "with open('extracts/outcomes_set_b.pkl', 'wb') as outfile:\n",
        "    dill.dump(outcomes_set_b, outfile, pickle.HIGHEST_PROTOCOL) \n",
        "with open('extracts/outcomes_set_c.pkl', 'wb') as outfile:\n",
        "    dill.dump(outcomes_set_c, outfile, pickle.HIGHEST_PROTOCOL) "
      ],
      "metadata": {
        "id": "K2oHHScGiv0Q"
      },
      "execution_count": 9,
      "outputs": []
    },
    {
      "cell_type": "code",
      "source": [],
      "metadata": {
        "id": "Cr-VtjiwLi7o"
      },
      "execution_count": null,
      "outputs": []
    }
  ]
}
